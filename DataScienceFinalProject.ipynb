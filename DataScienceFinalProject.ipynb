{
  "nbformat": 4,
  "nbformat_minor": 0,
  "metadata": {
    "colab": {
      "provenance": []
    },
    "kernelspec": {
      "name": "python3",
      "display_name": "Python 3"
    },
    "language_info": {
      "name": "python"
    }
  },
  "cells": [
    {
      "cell_type": "markdown",
      "source": [
        "#The Final Project"
      ],
      "metadata": {
        "id": "yzPB4UHKIkPc"
      }
    },
    {
      "cell_type": "markdown",
      "source": [
        "##Introduction"
      ],
      "metadata": {
        "id": "_MrfuI1IIvmy"
      }
    },
    {
      "cell_type": "markdown",
      "source": [
        "###Data Science Languages\n",
        "1. Python\n",
        "2. R\n",
        "3. Java\n",
        "4. JavaScript\n",
        "5. SQL"
      ],
      "metadata": {
        "id": "G_2EQtx6IyfA"
      }
    },
    {
      "cell_type": "markdown",
      "source": [
        "###Data Science Libraries\n",
        "1. Pandas\n",
        "2. NumPy\n",
        "3. Py-Torch\n",
        "4. SciPy\n",
        "5. Keras"
      ],
      "metadata": {
        "id": "NzN0qevMJzfc"
      }
    },
    {
      "cell_type": "markdown",
      "source": [
        "###Data Science Tools\n",
        "1. Apache Spark\n",
        "2. Apache Hadoop\n",
        "3. MATLAB\n",
        "4. Tableau\n",
        "5. Julia"
      ],
      "metadata": {
        "id": "FNaVrcgFKVJg"
      }
    },
    {
      "cell_type": "markdown",
      "source": [
        "###Arithmetic Expressions"
      ],
      "metadata": {
        "id": "i1lFCoRUL8Yi"
      }
    },
    {
      "cell_type": "code",
      "source": [
        "###Mulitply and Addition operation\n",
        "print(2*9)\n",
        "print(6+7)"
      ],
      "metadata": {
        "colab": {
          "base_uri": "https://localhost:8080/"
        },
        "id": "cL2MIdBMQH4B",
        "outputId": "c02fd9f6-afe2-4d21-efc6-336bcf0c6ac9"
      },
      "execution_count": 3,
      "outputs": [
        {
          "output_type": "stream",
          "name": "stdout",
          "text": [
            "18\n",
            "13\n"
          ]
        }
      ]
    },
    {
      "cell_type": "code",
      "source": [
        " ### Converting minutes to hours\n",
        "print(243/60)"
      ],
      "metadata": {
        "colab": {
          "base_uri": "https://localhost:8080/"
        },
        "id": "Y8fm122bQZhm",
        "outputId": "dddb6413-13bc-464c-e1cd-bb61eb4ddc8e"
      },
      "execution_count": 6,
      "outputs": [
        {
          "output_type": "stream",
          "name": "stdout",
          "text": [
            "4.05\n"
          ]
        }
      ]
    },
    {
      "cell_type": "markdown",
      "source": [
        "###Objectives\n",
        "- Data Science Languages\n",
        "- Data Science Libraries\n",
        "- Data Science Tools\n",
        "- Arithmentic Expression\n",
        "- Converting minutes to hours"
      ],
      "metadata": {
        "id": "HUMf2NGlTVmB"
      }
    },
    {
      "cell_type": "markdown",
      "source": [
        "###Author\n",
        "####Manasa"
      ],
      "metadata": {
        "id": "5jXUz6fPTxlc"
      }
    },
    {
      "cell_type": "markdown",
      "source": [
        "########Note: I was having issue with my Jupyter note, so I have choose Goolgle Colab to complete the assignment"
      ],
      "metadata": {
        "id": "Kpm1di6WUIkk"
      }
    }
  ]
}