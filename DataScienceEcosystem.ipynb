{
  "nbformat": 4,
  "nbformat_minor": 0,
  "metadata": {
    "colab": {
      "provenance": [],
      "authorship_tag": "ABX9TyOYjlbOTzk3MVKxH18Z2RKp",
      "include_colab_link": true
    },
    "kernelspec": {
      "name": "python3",
      "display_name": "Python 3"
    },
    "language_info": {
      "name": "python"
    }
  },
  "cells": [
    {
      "cell_type": "markdown",
      "metadata": {
        "id": "view-in-github",
        "colab_type": "text"
      },
      "source": [
        "<a href=\"https://colab.research.google.com/github/manasaj91/testrepo/blob/main/DataScienceEcosystem.ipynb\" target=\"_parent\"><img src=\"https://colab.research.google.com/assets/colab-badge.svg\" alt=\"Open In Colab\"/></a>"
      ]
    },
    {
      "cell_type": "markdown",
      "source": [
        "# H1 : Data Science Tools and Ecosystem"
      ],
      "metadata": {
        "id": "sX0qRRiR0KKI"
      }
    },
    {
      "cell_type": "markdown",
      "source": [
        "# In this notebook, Data Science Tools and Ecosystem are summarized."
      ],
      "metadata": {
        "id": "NVizJ_p-0TWF"
      }
    },
    {
      "cell_type": "markdown",
      "source": [
        "Some of the popular languages that Data Scientists use are:\n",
        "1. Python\n",
        "2. R\n",
        "3. SQL\n",
        "4. Java"
      ],
      "metadata": {
        "id": "kqr3ItJj0aqj"
      }
    },
    {
      "cell_type": "markdown",
      "source": [
        "Some of the commonly used libraries used by Data Scientists include:\n",
        "1. NumPy\n",
        "2. Keras\n",
        "3. Pandas\n",
        "4. PyTorch\n",
        "5. SciPy"
      ],
      "metadata": {
        "id": "oEDkDug11HLY"
      }
    },
    {
      "cell_type": "markdown",
      "source": [
        "|Data Science Tools|\n",
        "-----------------------------\n",
        "|TensorFlow|\n",
        "|Tableau|\n",
        "|Apache Hadoop|\n",
        "|SciPy|\n",
        "|NumPy|\n",
        "|Julia|\n",
        "|PyTorch|"
      ],
      "metadata": {
        "id": "4YKjPVrI1Xjd"
      }
    },
    {
      "cell_type": "code",
      "source": [
        "### Below are a few examples of evaluating arithmetic expressions in Python\n",
        "print(5 - 2)\n",
        "print(3 * 9)\n",
        "print(35 / 6)\n",
        "print(84 + 61)\n",
        "print(26 == 26)\n",
        "print(62 % 4)\n",
        "print(42 // 2)"
      ],
      "metadata": {
        "colab": {
          "base_uri": "https://localhost:8080/"
        },
        "id": "Iui7VvXC1eOS",
        "outputId": "9b693995-85e1-4bda-fb4a-5ea8f285ceaf"
      },
      "execution_count": null,
      "outputs": [
        {
          "output_type": "stream",
          "name": "stdout",
          "text": [
            "3\n",
            "27\n",
            "5.833333333333333\n",
            "145\n",
            "True\n",
            "2\n",
            "21\n"
          ]
        }
      ]
    },
    {
      "cell_type": "code",
      "source": [
        "# This a simple arithmetic expression to mutiply then add integers\n",
        "(3*4)+5"
      ],
      "metadata": {
        "colab": {
          "base_uri": "https://localhost:8080/"
        },
        "id": "rkUNc_hq3qNM",
        "outputId": "15b3d708-4e3d-44e0-ef9b-37ac01df0b67"
      },
      "execution_count": null,
      "outputs": [
        {
          "output_type": "execute_result",
          "data": {
            "text/plain": [
              "17"
            ]
          },
          "metadata": {},
          "execution_count": 4
        }
      ]
    },
    {
      "cell_type": "code",
      "source": [
        "#This will convert 200 minutes to hours by diving by 60\n",
        "200 / 60"
      ],
      "metadata": {
        "colab": {
          "base_uri": "https://localhost:8080/"
        },
        "id": "ku-3YDlI4dch",
        "outputId": "f51747f6-d90d-482e-89a5-76d35b20ac0a"
      },
      "execution_count": null,
      "outputs": [
        {
          "output_type": "execute_result",
          "data": {
            "text/plain": [
              "3.3333333333333335"
            ]
          },
          "metadata": {},
          "execution_count": 5
        }
      ]
    },
    {
      "cell_type": "markdown",
      "source": [
        "Objectives:\n",
        "- List of langagues for Data Science\n",
        "- Data Science Tools\n",
        "- Libraries used by Data Scientist\n",
        "- Arithmetic Expression Examples"
      ],
      "metadata": {
        "id": "78pwS7xC5bji"
      }
    },
    {
      "cell_type": "markdown",
      "source": [
        "## Author\n",
        "Manasa"
      ],
      "metadata": {
        "id": "6IWT1id66_HS"
      }
    }
  ]
}